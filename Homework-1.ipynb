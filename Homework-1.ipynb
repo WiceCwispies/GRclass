{
  "cells": [
    {
      "cell_type": "markdown",
      "metadata": {
        "id": "DC3MM7WQ5c33"
      },
      "source": [
        "# Policy:\n",
        "\n",
        "+ You are encouraged to discuss with each other, but the final submitted script must be your own workings.\n",
        "\n",
        "+ You may use any IDE for python coding. \n",
        "\n",
        "+ All submission should be on-line by the deadline, and not extension is allowed. \n",
        "\n",
        "+ Submit both pdf and .jpynb (or .py file). "
      ]
    },
    {
      "cell_type": "markdown",
      "metadata": {
        "id": "FqXZPxxW5c34"
      },
      "source": [
        "## Question-1 Understand lists\n",
        "\n",
        "Instance creation,list creation addition (concatenation), and length query. \n",
        "\n",
        "1. Create, respectively, two objects: x and y.\n",
        "2. Create two lists called x_list and y_list each contains, respectively, 10 instances of variables x and y.\n",
        "2. Print the lengths of these two lists.\n",
        "2. Create next a longer list called big_list, which contains all the variables x and y, by concatenation. \n",
        "4. Count the number of the objects in all these three lists. "
      ]
    },
    {
      "cell_type": "code",
      "source": [
        "x = 4\n",
        "y = 5\n",
        "x_list = [x]*10\n",
        "y_list = [y]*10\n",
        "print(f'length of the x list is {len(x_list)}')\n",
        "print(len(y_list))\n",
        "big_list = x_list+y_list\n",
        "num_ob = len(x_list+y_list+big_list)"
      ],
      "metadata": {
        "colab": {
          "base_uri": "https://localhost:8080/"
        },
        "id": "umQrOjE05gRq",
        "outputId": "0c79d265-3738-4d6c-929a-5cc073d45c7c"
      },
      "execution_count": 1,
      "outputs": [
        {
          "output_type": "stream",
          "name": "stdout",
          "text": [
            "10\n",
            "10\n"
          ]
        }
      ]
    },
    {
      "cell_type": "markdown",
      "metadata": {
        "id": "Ji-cikaj5c34"
      },
      "source": [
        "## Question-2 Understand memory addresses\n",
        "\n",
        "1. Assign 3 different numbers, respectively, to three variables n1, n2, and n3\n",
        "2. Create a list called n_list, and pass these three numbers to the n_list.\n",
        "3. Assign 2 different numbers, respectively, to two variables m1, and m2.\n",
        "4. Create a list called m_list, and pass  m1 and m2 to the m_list.\n",
        "5. Print the numbers of the elements in the n_list, and lengths of the n_list.\n",
        "6. Print the memory addresses of n1 and that of the first numbers in the n_list.\n",
        "7. Print the memory addresses of m2 and that of the last numbers in the m_list.\n",
        "8. Change the value for n1 and n_list[0], respectively, to another number, and print out n1,n_list[0] and m_list[0].\n",
        "9. Create a longer list using n_list and m_list. Print its length of this newly created list. Print the addresses of n1,first element in n_list, the fist element in nm_list, m2, and the last element in nm_list. \n",
        "10. Change the value of n1 and the first element in nm_list. Print the addresses of n1,first element in n_list, first element in nm_list.\n",
        "\n",
        "Discuss about the results obtained."
      ]
    },
    {
      "cell_type": "markdown",
      "metadata": {
        "id": "0w_Ubxz75c34"
      },
      "source": [
        "## Question-3 Understand lists: creation, appending, concatenation\n",
        "\n",
        "1. Create two empty lists: \"numbers\" and \"strings\".\n",
        "2. Use the \"append\" list method to add three members of 5,7, and 4 to the \"numbers\" list, in that order.\n",
        "3. Then, create a list named \"names\", and assign it with three names: 'John', 'Eric', and 'Jessica', in that order\n",
        "4. Next, add words 'John', 'Eric', and 'Jessica' to the \"strings\" list.\n",
        "5. Assign a variable \"second_name\" with the second name in the names list, using the brackets operator [], and the member list. \n",
        "\n",
        "Note that the index is zero-based, and hence the index the second item in the list should be 1, and so on.\n"
      ]
    },
    {
      "cell_type": "markdown",
      "metadata": {
        "id": "dErWzlHo5c35"
      },
      "source": [
        "## Question-4 Understand more list operations\n",
        "\n",
        "1. Create first a list \"materials\", and assign it with three names: 'Plastic', 'Wood', 'Steel', and 'Aluminum', in that order. \n",
        "2. Use the \"append\" method to add the 1st and 3rd members to a new list \"selected_materials\".\n",
        "3. Generate a list containing the unselected materials. \n",
        "4. Print out the selected materials and the unselected materials.  \n"
      ]
    },
    {
      "cell_type": "markdown",
      "metadata": {
        "id": "4vQfxwN95c35"
      },
      "source": [
        "## Question-5  Lists and Numpy Array for scientific computations\n",
        "\n",
        "1. Create a list that contain 10 values for 10 hollow balls with different outer diameters. \n",
        "2. Create another list that contain 10 different values of inner diameters for the same set of 10 hollow balls. \n",
        "3. Create two corresponding Numpy arrays using these two lists. \n",
        "4. Write a code to compute the volumes of these 10 balls using these Numpy arrays. \n",
        "5. Write a code to compute the volumes of these 10 balls using these two lists. \n",
        "6. print out only the volume values that are above or equal the average value. \n"
      ]
    },
    {
      "cell_type": "markdown",
      "metadata": {
        "id": "ZvRWnuhD5c35"
      },
      "source": [
        "## Question-6  Use of list comprehension for list and Numpy arrays\n",
        "\n",
        "Using list comprehension, complete the following taks:\n",
        "\n",
        "1. Create an initial list with 10 different values of float type with both positive and negative.\n",
        "2. Create a \"newlist\" using the initial list. The \"newlist\" that contains only the positive integer values in the initial list. \n",
        "3. Create a Numpy array using the initial list \"values\", and then create a \"newlist\" that only contains the positive integers in the initial list. Finally, create a numpy array with only these positive integers. "
      ]
    },
    {
      "cell_type": "markdown",
      "metadata": {
        "id": "qgyukiwF5c35"
      },
      "source": [
        "## Question-7 Understanding conditions\n",
        "\n",
        "Change the variables in Section 1 of the codes given below, so that each if statement resolves as True, \n",
        "and hence all integers from 1 to 6 are printed. "
      ]
    },
    {
      "cell_type": "code",
      "execution_count": null,
      "metadata": {
        "ExecuteTime": {
          "end_time": "2022-01-19T16:18:15.934850Z",
          "start_time": "2022-01-19T16:18:15.913908Z"
        },
        "id": "NJcikVee5c35"
      },
      "outputs": [],
      "source": [
        "#----- Section 1 ------\n",
        "number1 = 15\n",
        "number2 = 1\n",
        "list1 = [] \n",
        "list2 = [1] \n",
        "#----------------------\n",
        "\n",
        "if number1 > 15:\n",
        "    print(\"1: True\")\n",
        "\n",
        "if list1:\n",
        "    print(\"2: True\")\n",
        "\n",
        "if len(list2) == 2:\n",
        "    print(\"3: True\")\n",
        "\n",
        "if len(list1) + len(list2) == 5:\n",
        "    print(\"4: True\")\n",
        "\n",
        "if list1 and list1[0] == 1:\n",
        "    print(\"5: True\")\n",
        "   \n",
        "if not number2:\n",
        "    print(\"6: True\")"
      ]
    },
    {
      "cell_type": "markdown",
      "metadata": {
        "id": "DY4zKy7E5c36"
      },
      "source": [
        "## Question-8  Controlling print outs\n",
        "Write a shortest possible code to print out only all odd numbers bellow 100. "
      ]
    },
    {
      "cell_type": "markdown",
      "metadata": {
        "id": "iyc-XU0_5c36"
      },
      "source": [
        "## Question-9 Practicing loops \n",
        "\n",
        "Loop through and print out all the odd numbers in the given list of numbers in the same order. Skip all the numbers that come after the first 183 in the sequence of the list. \n"
      ]
    },
    {
      "cell_type": "code",
      "execution_count": null,
      "metadata": {
        "ExecuteTime": {
          "end_time": "2022-01-19T16:04:54.338860Z",
          "start_time": "2022-01-19T16:04:54.323899Z"
        },
        "id": "6MgK6cu65c36"
      },
      "outputs": [],
      "source": [
        "n_list = [\n",
        "   851, 301, 883, 651, 360, 68, 308, 318, 601, 385, 880, 505, 515, 535, 533, 545,\n",
        "   625, 183, 165, 131, 501, 163, 615, 865, 555, 118, 380, 883, 581, 136, 105, 541,\n",
        "   486, 361, 35, 318, 805, 333, 136, 355, 813, 566, 585, 858, 318, 615, 853,704,\n",
        "   388, 161, 558, 118, 818, 135, 311, 566, 816, 138, 866, 850, 616, 838, 685,108,\n",
        "   515, 65, 103, 58, 511, 13, 881, 883, 565, 553, 81, 358, 833, 831, 335, 531,332\n",
        "   ]"
      ]
    }
  ],
  "metadata": {
    "kernelspec": {
      "display_name": "Python 3",
      "language": "python",
      "name": "python3"
    },
    "language_info": {
      "codemirror_mode": {
        "name": "ipython",
        "version": 3
      },
      "file_extension": ".py",
      "mimetype": "text/x-python",
      "name": "python",
      "nbconvert_exporter": "python",
      "pygments_lexer": "ipython3",
      "version": "3.6.13"
    },
    "latex_envs": {
      "LaTeX_envs_menu_present": true,
      "autoclose": false,
      "autocomplete": true,
      "bibliofile": "biblio.bib",
      "cite_by": "apalike",
      "current_citInitial": 1,
      "eqLabelWithNumbers": true,
      "eqNumInitial": 1,
      "hotkeys": {
        "equation": "Ctrl-E",
        "itemize": "Ctrl-I"
      },
      "labels_anchors": false,
      "latex_user_defs": false,
      "report_style_numbering": false,
      "user_envs_cfg": false
    },
    "toc": {
      "base_numbering": 1,
      "nav_menu": {},
      "number_sections": true,
      "sideBar": true,
      "skip_h1_title": true,
      "title_cell": "",
      "title_sidebar": "",
      "toc_cell": false,
      "toc_position": {
        "height": "calc(100% - 180px)",
        "left": "10px",
        "top": "150px",
        "width": "223.49px"
      },
      "toc_section_display": true,
      "toc_window_display": false
    },
    "varInspector": {
      "cols": {
        "lenName": 16,
        "lenType": 16,
        "lenVar": 40
      },
      "kernels_config": {
        "python": {
          "delete_cmd_postfix": "",
          "delete_cmd_prefix": "del ",
          "library": "var_list.py",
          "varRefreshCmd": "print(var_dic_list())"
        },
        "r": {
          "delete_cmd_postfix": ") ",
          "delete_cmd_prefix": "rm(",
          "library": "var_list.r",
          "varRefreshCmd": "cat(var_dic_list()) "
        }
      },
      "types_to_exclude": [
        "module",
        "function",
        "builtin_function_or_method",
        "instance",
        "_Feature"
      ],
      "window_display": false
    },
    "colab": {
      "provenance": []
    }
  },
  "nbformat": 4,
  "nbformat_minor": 0
}